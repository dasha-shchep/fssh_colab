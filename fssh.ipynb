{
  "nbformat": 4,
  "nbformat_minor": 0,
  "metadata": {
    "colab": {
      "name": "fssh.ipynb",
      "provenance": [],
      "authorship_tag": "ABX9TyPyDkSKYx/N3P6K4SXjpMX7",
      "include_colab_link": true
    },
    "kernelspec": {
      "name": "python3",
      "display_name": "Python 3"
    }
  },
  "cells": [
    {
      "cell_type": "markdown",
      "metadata": {
        "id": "view-in-github",
        "colab_type": "text"
      },
      "source": [
        "<a href=\"https://colab.research.google.com/github/dasha-shchep/fssh_colab/blob/master/fssh.ipynb\" target=\"_parent\"><img src=\"https://colab.research.google.com/assets/colab-badge.svg\" alt=\"Open In Colab\"/></a>"
      ]
    },
    {
      "cell_type": "markdown",
      "metadata": {
        "id": "PZ-pyE9nCUvy",
        "colab_type": "text"
      },
      "source": [
        "# Implementing the FSSH algorithm on Tully's example problems\n",
        "This notebook will go through the basic FSSH algorithm and run parallel trajectories as described in the original paper - Tully, J.C. *J. Chem. Phys.* (1990) **93** 1061."
      ]
    },
    {
      "cell_type": "code",
      "metadata": {
        "id": "O31aTG_wGxLt",
        "colab_type": "code",
        "colab": {}
      },
      "source": [
        "import numpy as np"
      ],
      "execution_count": 0,
      "outputs": []
    },
    {
      "cell_type": "code",
      "metadata": {
        "id": "WHIGQHk9CO8Z",
        "colab_type": "code",
        "colab": {}
      },
      "source": [
        "# Setting up the model (1-D) potentials class\n",
        "class ModelPotentials:\n",
        "  def __init__(self):\n",
        "    "
      ],
      "execution_count": 0,
      "outputs": []
    }
  ]
}