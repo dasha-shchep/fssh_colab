{
  "nbformat": 4,
  "nbformat_minor": 0,
  "metadata": {
    "colab": {
      "name": "Copy of fssh.ipynb",
      "provenance": [],
      "collapsed_sections": [],
      "authorship_tag": "ABX9TyNg87RJN9KnIEDrzSkSML8A",
      "include_colab_link": true
    },
    "kernelspec": {
      "name": "python3",
      "display_name": "Python 3"
    },
    "accelerator": "GPU"
  },
  "cells": [
    {
      "cell_type": "markdown",
      "metadata": {
        "id": "view-in-github",
        "colab_type": "text"
      },
      "source": [
        "<a href=\"https://colab.research.google.com/github/dasha-shchep/fssh_colab/blob/master/fssh.ipynb\" target=\"_parent\"><img src=\"https://colab.research.google.com/assets/colab-badge.svg\" alt=\"Open In Colab\"/></a>"
      ]
    },
    {
      "cell_type": "markdown",
      "metadata": {
        "id": "PZ-pyE9nCUvy",
        "colab_type": "text"
      },
      "source": [
        "# Implementing the FSSH algorithm on Tully's example problems\n",
        "This notebook will go through the basic FSSH algorithm and run parallel trajectories as described in the original paper - Tully, J.C. *J. Chem. Phys.* (1990) **93** 1061 - [here](https://doi.org/10.1063/1.459170)."
      ]
    },
    {
      "cell_type": "code",
      "metadata": {
        "id": "O31aTG_wGxLt",
        "colab_type": "code",
        "colab": {}
      },
      "source": [
        "import numpy as np\n",
        "import matplotlib.pyplot as plt\n",
        "# !pip install pyscf\n",
        "# from pyscf import scf"
      ],
      "execution_count": 0,
      "outputs": []
    },
    {
      "cell_type": "markdown",
      "metadata": {
        "id": "hzHGKNGaIGRV",
        "colab_type": "text"
      },
      "source": [
        "We will limit ourselves at this stage to a two-state model system.\n",
        "These three types of model potential that Tully described are:\n",
        "\n",
        "A. Simple avoided crossing (SAX)\n",
        "\n",
        "B. Dual avoided crossing (DAX)\n",
        "\n",
        "C. Extended coupling with reflection (ECR)\n",
        "\n",
        "On the next line we create a SAX potential class:"
      ]
    },
    {
      "cell_type": "code",
      "metadata": {
        "id": "WHIGQHk9CO8Z",
        "colab_type": "code",
        "colab": {}
      },
      "source": [
        "# Setting up model (1-D potential) classes\n",
        "# Creating a model class lets us play with more complex model potentials later\n",
        "class SAXModel:\n",
        "  \"\"\"\n",
        "  First model two-level problem defined by the following interactions in the\n",
        "  diabatic representstion:\n",
        "  V11(X) = A[1 - exp(-BX)] for x > 0\n",
        "  V11(X) = - A[1 - exp(BX)] for x < 0\n",
        "  V22(X) = - V11(X)\n",
        "  V21(X) = V12(X) = C exp(-DX**2)\n",
        "  Default choice of parameters:\n",
        "  A = 0.01 ; B = 1.6 ; C = 0.005 ; D = 1.0\n",
        "  \"\"\"\n",
        "  _num_states = 2\n",
        "  _num_dims   = 1\n",
        "  \n",
        "  def __init__(self,a=0.01,b=1.6,c=0.005,d=1.0):\n",
        "    self.A = a\n",
        "    self.B = b\n",
        "    self.C = c\n",
        "    self.D = d\n",
        "\n",
        "  def V(self,R):\n",
        "    sign = np.sign(R)\n",
        "    V11 = sign*self.A*(1 - np.exp(-self.B*sign*R))\n",
        "    V22 = -V11\n",
        "    V12 = self.C*np.exp(-self.D*R**2)\n",
        "    V21 = V12\n",
        "    return np.array([[V11,V12],[V21,V22]])\n",
        "\n",
        "  def dV(self,R):\n",
        "    sign = np.sign(R)\n",
        "    dV11 = self.A*self.B*np.exp(-self.B*abs(R))\n",
        "    dV22 = - dV11\n",
        "    dV12 = self.C*np.exp(-self.D*R**2)\n",
        "    dV21 = dV12\n",
        "    return np.array([[dV11,dV12],[dV21,dV22]])\n",
        "\n",
        "  def diagonalize(self,R):\n",
        "    self.position = R\n",
        "    hamiltonian = self.V(R)\n",
        "    eigenvalues, eigenvectors = np.linalg.eigh(hamiltonian)\n",
        "    return eigenvalues, eigenvectors\n",
        "\n",
        "  def d_12(self,R):\n",
        "    z = (self.V(R)[0,0] - self.V(R)[1,1])/(self.V(R)[0,1]*2e0)\n",
        "    D12 = - 1/(2*(1+z**2))*((1/(2*self.V(R)[0,1]**2)) * \n",
        "          (self.V(R)[0,1]*(self.dV(R)[0,0]-self.dV(R)[1,1])) \n",
        "          -self.dV(R)[0,1]*(self.V(R)[0,0]-self.V(R)[1,1]))\n",
        "    D21 = -D12\n",
        "    D11 = 0\n",
        "    D22 = 0\n",
        "    return np.array([[D11,D12],[D21,D22]])\n"
      ],
      "execution_count": 0,
      "outputs": []
    },
    {
      "cell_type": "markdown",
      "metadata": {
        "id": "QbgkjS83zXhF",
        "colab_type": "text"
      },
      "source": [
        "Nonadiabatic coupling between states 1 and 2 is given by\n",
        "\n",
        "$d_{12}(R) = \\langle\\phi_{1}(r;R)|\\nabla_{R}\\phi_{2}(r;R)\\rangle$\n",
        "\n",
        "where the electronic coordinate $r$ is parametrically dependent on the nuclear coordinate $R$.\n",
        "\n",
        "In the above class it was analytically derived from eigenvectors of V."
      ]
    },
    {
      "cell_type": "code",
      "metadata": {
        "id": "h8on_hEnlw5A",
        "colab_type": "code",
        "outputId": "ed3ad25f-7cc6-4e11-ff9e-e372b7ac5022",
        "colab": {
          "base_uri": "https://localhost:8080/",
          "height": 34
        }
      },
      "source": [
        "# Instance of SAX class\n",
        "model = SAXModel()\n",
        "model._num_states"
      ],
      "execution_count": 688,
      "outputs": [
        {
          "output_type": "execute_result",
          "data": {
            "text/plain": [
              "2"
            ]
          },
          "metadata": {
            "tags": []
          },
          "execution_count": 688
        }
      ]
    },
    {
      "cell_type": "markdown",
      "metadata": {
        "id": "ECd6aqHRoF-X",
        "colab_type": "text"
      },
      "source": [
        "Plotting the potentials in the adiabatic representation, with nonadiabatic coupling."
      ]
    },
    {
      "cell_type": "code",
      "metadata": {
        "id": "b6idn9vIk33O",
        "colab_type": "code",
        "outputId": "828979fc-658a-49da-d7fb-6f279b53cff6",
        "colab": {
          "base_uri": "https://localhost:8080/",
          "height": 283
        }
      },
      "source": [
        "xmin,xmax = -10,10;\n",
        "x = np.linspace(xmin,xmax,1000);\n",
        "tens = model.V(x);\n",
        "eigA = np.zeros(len(x));\n",
        "eigB = np.zeros(len(x));\n",
        "for i in range(len(x)):\n",
        "  eigA[i] = np.linalg.eigh(tens[:,:,i])[0][0]\n",
        "  eigB[i] = np.linalg.eigh(tens[:,:,i])[0][1]\n",
        "\n",
        "fig = plt.figure()\n",
        "# plot diabatic PES\n",
        "# plt.plot(x, model.V(x)[1,1], 'k-')\n",
        "# plt.plot(x, model.dV(x)[0,0], 'k-');\n",
        "# plot adiabatic PES\n",
        "plt.plot(x, eigA, 'k-');\n",
        "plt.plot(x, eigB, 'k-');\n",
        "plt.plot(x, 0.02*model.d_12(x)[1,0], 'k--');\n",
        "plt.ylim([-0.02,0.04]);\n",
        "plt.ylabel(\"Energy\");\n",
        "plt.xlim([-10,10]);\n",
        "plt.xlabel(\"R coordinate\");"
      ],
      "execution_count": 689,
      "outputs": [
        {
          "output_type": "display_data",
          "data": {
            "text/plain": [
              "<Figure size 432x288 with 1 Axes>"
            ],
            "image/png": "[encoded data removed]"
          },
          "metadata": {
            "tags": []
          }
        }
      ]
    },
    {
      "cell_type": "markdown",
      "metadata": {
        "id": "3uC1qODQRj1D",
        "colab_type": "text"
      },
      "source": [
        "Now that we have the model, can follow step 1:\n",
        "\n",
        "**Initial conditions for the first trajectory are assigned consistent with the experiment to be simulated. This includes assignment of the initial positions and momenta of all of the atoms, and assignment of the initial electronic density matrix elements $a_{kj}$ Typically, only a single electronic\n",
        "state $k$ will be populated initially, i.e., $a_{lj} = \\delta_{lk} \\delta_{jk}$ There is no reason, however, why the initial conditions could not correspond to a coherent or incoherent mixture of electronic\n",
        "states.**"
      ]
    },
    {
      "cell_type": "code",
      "metadata": {
        "id": "HsKezExTrzQb",
        "colab_type": "code",
        "colab": {}
      },
      "source": [
        "# Initial momentum\n",
        "p0 = 1\n",
        "# Initial position\n",
        "x0 = -9\n",
        "# Initial electronic density matrix: adiabatic population all in state 1 (0 with Python indexing)\n",
        "a0 = [[1,0],[0,0]]\n",
        "# Timestep (a.u.)\n",
        "dt = 0.5\n",
        "# Mass (a.u.)\n",
        "mass = 2e3"
      ],
      "execution_count": 0,
      "outputs": []
    },
    {
      "cell_type": "markdown",
      "metadata": {
        "id": "yLRZOlKbUFdL",
        "colab_type": "text"
      },
      "source": [
        "Integration of the classical degrees of freedom via the velocity verlet algorithm, as described in step 2.\n",
        "\n",
        "**The classical mechanical equations of motion for the atoms on the current potential energy surface $V_{kk}$ are integrated for a small time interval $\\Delta t$. Equations (8) for the electronic amplitudes or Eq. (11) for the density matrix elements are integrated along this trajectory. The time interval $\\Delta t$ may be a single numerical integration time step, or a few steps, so long as it is sufficiently short that the electronic probabilities change only slightly during any interval.**\n",
        "\n",
        "Eq. (8):\n",
        "\n",
        "$i\\hbar\\dot{c}_{k} = \\sum_{j} c_{j}\\left(V_{kj}-i\\hbar \\bf{\\dot{R}\\!\\cdot\\! d_{kj}}\\right)$\n",
        "\n",
        "Eq. (11):\n",
        "\n",
        "$i\\hbar\\dot{a}_{kj} = \\sum_{l} \\left(a_{lj}\\left[V_{kl}-i\\hbar \\bf{\\dot{R}\\!\\cdot\\! d_{kl}}\\right]-a_{kl}\\left[V_{lj}-i\\hbar \\bf{\\dot{R}\\!\\cdot\\! d_{lj}}\\right]\\right)$\n",
        "\n",
        "where\n",
        "$a_{kj} = c_k^*c_j $."
      ]
    },
    {
      "cell_type": "code",
      "metadata": {
        "id": "WjBoypC6EbNR",
        "colab_type": "code",
        "colab": {}
      },
      "source": [
        "# Classical propagation of the nuclear DoF with a standard velocity verlet algorithm\n",
        "def vv(x0ld,p0ld,dt,state,mass):\n",
        "  v0ld = p0ld/mass\n",
        "  a0ld = - model.dV(x0ld)[state,state]/mass\n",
        "  xnew = x0ld + v0ld*dt + 0.5*a0ld*dt*dt\n",
        "  anew = - model.dV(xnew)[state,state]/mass\n",
        "  pnew = p0ld + 0.5*(a0ld+anew)*dt*mass\n",
        "  return xnew, pnew\n",
        "\n",
        "# Kinetic Energy\n",
        "def ke(momentum,mass):\n",
        "  vel = momentum/mass\n",
        "  return 0.5*vel*vel*mass\n",
        "\n",
        "# Potential Energy\n",
        "def pe(position,state):\n",
        "  return model.V(position)[state,state]\n",
        "\n",
        "# Total Energy\n",
        "def te(position,momentum,state,mass):\n",
        "  return pe(position,state)+ke(momentum,mass)\n",
        "\n",
        "# Propagation of the density matrix elements a_ij\n",
        "def dm(a0):\n",
        "  \n",
        "  return anew"
      ],
      "execution_count": 0,
      "outputs": []
    },
    {
      "cell_type": "code",
      "metadata": {
        "id": "Q0vq7OuT69wY",
        "colab_type": "code",
        "colab": {}
      },
      "source": [
        "traj_x = [(-3,5),(-2,1),(4,6),(-4,2),(4,5)];\n",
        "traj_x[1][1];\n",
        "time = 0\n",
        "list = []\n",
        "state = 0\n",
        "while time < 300:\n",
        "  traj_x = [vv(x[0],x[1],dt=10,state=state,mass=mass) for x in traj_x]\n",
        "  list.append(traj_x)\n",
        "  time += dt"
      ],
      "execution_count": 0,
      "outputs": []
    },
    {
      "cell_type": "code",
      "metadata": {
        "id": "SVwBkiaewXTV",
        "colab_type": "code",
        "colab": {}
      },
      "source": [
        "trajectoryApos = []\n",
        "trajectoryAmom = []\n",
        "Kenergy = []\n",
        "Penergy = []\n",
        "Tenergy = []\n",
        "for i in range(600):\n",
        "  trajectoryApos.append(list[i][3][0])\n",
        "  trajectoryAmom.append(list[i][3][1])\n",
        "  Kenergy.append(ke(trajectoryAmom[i],mass=mass))\n",
        "  Penergy.append(pe(trajectoryApos[i],state=state))\n",
        "  Tenergy.append(te(trajectoryApos[i],trajectoryAmom[i],state=state,mass=mass))\n",
        "\n"
      ],
      "execution_count": 0,
      "outputs": []
    },
    {
      "cell_type": "code",
      "metadata": {
        "id": "4_yQRYDeryTW",
        "colab_type": "code",
        "colab": {
          "base_uri": "https://localhost:8080/",
          "height": 269
        },
        "outputId": "a95705f5-eb4b-402a-fdb0-925594dab5e9"
      },
      "source": [
        "fig, (ax1, ax2) = plt.subplots(1, 2);\n",
        "ax1.plot(Kenergy);\n",
        "ax1.plot(Penergy);\n",
        "ax1.plot(Tenergy);\n",
        "ax2.plot(trajectoryApos,trajectoryAmom);"
      ],
      "execution_count": 740,
      "outputs": [
        {
          "output_type": "display_data",
          "data": {
            "text/plain": [
              "<Figure size 432x288 with 2 Axes>"
            ],
            "image/png": "[encoded data removed]"
          },
          "metadata": {
            "tags": []
          }
        }
      ]
    },
    {
      "cell_type": "code",
      "metadata": {
        "id": "ktcWsNjdWBHk",
        "colab_type": "code",
        "colab": {
          "base_uri": "https://localhost:8080/",
          "height": 34
        },
        "outputId": "520785b4-c3d4-4b24-88c2-79fb8e592bea"
      },
      "source": [
        "eig,eiv = np.linalg.eigh(model.V(0.3))\n",
        "eiv\n",
        "#eiv[1]\n",
        "#eiv[0,1]\n",
        "a11=np.dot(np.conj(eig[0]),eig[0])\n",
        "a12=np.dot(np.conj(eig[0]),eig[1])\n",
        "a21=np.dot(np.conj(eig[1]),eig[0])\n",
        "a22=np.dot(np.conj(eig[1]),eig[1])\n",
        "a = [[a11,a12],[a21,a22]]\n",
        "eig"
      ],
      "execution_count": 764,
      "outputs": [
        {
          "output_type": "execute_result",
          "data": {
            "text/plain": [
              "array([-0.005951,  0.005951])"
            ]
          },
          "metadata": {
            "tags": []
          },
          "execution_count": 764
        }
      ]
    },
    {
      "cell_type": "code",
      "metadata": {
        "id": "0tsBoB1nU2Oy",
        "colab_type": "code",
        "outputId": "adf04669-877d-4342-dc56-d3f5d6f28d39",
        "colab": {
          "base_uri": "https://localhost:8080/",
          "height": 204
        }
      },
      "source": [
        "vect = np.random.rand(1,8)\n",
        "print(vect)\n",
        "for i in vect:\n",
        "  print(model.V(i))\n"
      ],
      "execution_count": 756,
      "outputs": [
        {
          "output_type": "stream",
          "text": [
            "[[0.43799124 0.27469341 0.06809956 0.28289414 0.30778296 0.51592878\n",
            "  0.0034994  0.77261031]]\n",
            "[[[ 5.03804849e-03  3.55647576e-03  1.03233079e-03  3.64047006e-03\n",
            "    3.88874373e-03  5.61977956e-03  5.58339303e-05  7.09507200e-03]\n",
            "  [ 4.12720981e-03  4.63660047e-03  4.97686594e-03  4.61544744e-03\n",
            "    4.54809090e-03  3.83149632e-03  4.99993877e-03  2.75250451e-03]]\n",
            "\n",
            " [[ 4.12720981e-03  4.63660047e-03  4.97686594e-03  4.61544744e-03\n",
            "    4.54809090e-03  3.83149632e-03  4.99993877e-03  2.75250451e-03]\n",
            "  [-5.03804849e-03 -3.55647576e-03 -1.03233079e-03 -3.64047006e-03\n",
            "   -3.88874373e-03 -5.61977956e-03 -5.58339303e-05 -7.09507200e-03]]]\n"
          ],
          "name": "stdout"
        }
      ]
    },
    {
      "cell_type": "code",
      "metadata": {
        "id": "nVKMXrJWOzvG",
        "colab_type": "code",
        "colab": {}
      },
      "source": [
        "# Generate initial conditions\n",
        "numTraj = 100\n",
        "dT = 1 # timestep\n",
        "initP = 0\n",
        "initQ = 1\n",
        "mass = 2000"
      ],
      "execution_count": 0,
      "outputs": []
    },
    {
      "cell_type": "code",
      "metadata": {
        "id": "xOuQS4WPO3-y",
        "colab_type": "code",
        "outputId": "d3f1f7e9-c185-4ea9-9ca4-e71c415fef18",
        "colab": {
          "base_uri": "https://localhost:8080/",
          "height": 34
        }
      },
      "source": [
        "# Classical nuclei velocity verlet integrator\n",
        "acceleration = force / mass\n",
        "def velocity_verlet(old_position, old_velocity, timestep,acceleration):\n",
        "  new_position = old_position + old_velocity * timestep\n",
        "  new_velocity = old_velocity + acceleration * timestep\n",
        "  return new_position, new_velocity"
      ],
      "execution_count": 0,
      "outputs": [
        {
          "output_type": "execute_result",
          "data": {
            "text/plain": [
              "0.11418160778148789"
            ]
          },
          "metadata": {
            "tags": []
          },
          "execution_count": 5
        }
      ]
    },
    {
      "cell_type": "code",
      "metadata": {
        "id": "PiJrezKtPETB",
        "colab_type": "code",
        "colab": {}
      },
      "source": [
        "# Calculate hopping probability & random number generator\n",
        "def surface_hop():\n",
        "  random_number = np.random.rand()\n",
        "  test\n",
        "  if random_number < test:\n",
        "    bool = True\n",
        "  elif random_number > test:\n",
        "    bool = False\n",
        "  else:\n",
        "    print(\"Error\")\n",
        "  return bool"
      ],
      "execution_count": 0,
      "outputs": []
    },
    {
      "cell_type": "markdown",
      "metadata": {
        "id": "_mYs3vMkC2lP",
        "colab_type": "text"
      },
      "source": [
        "Trying to run CUDA on Colab GPUs"
      ]
    },
    {
      "cell_type": "code",
      "metadata": {
        "id": "3ubBOwvhC13R",
        "colab_type": "code",
        "colab": {}
      },
      "source": [
        "import torch"
      ],
      "execution_count": 0,
      "outputs": []
    },
    {
      "cell_type": "code",
      "metadata": {
        "id": "wFDJzyjPDaKh",
        "colab_type": "code",
        "outputId": "ba74db7d-6771-449e-f225-6e8447e12a8b",
        "colab": {
          "base_uri": "https://localhost:8080/",
          "height": 34
        }
      },
      "source": [
        "torch.cuda.memory_allocated()"
      ],
      "execution_count": 0,
      "outputs": [
        {
          "output_type": "execute_result",
          "data": {
            "text/plain": [
              "0"
            ]
          },
          "metadata": {
            "tags": []
          },
          "execution_count": 2
        }
      ]
    },
    {
      "cell_type": "code",
      "metadata": {
        "id": "oYRzLOGGDp1r",
        "colab_type": "code",
        "colab": {}
      },
      "source": [
        "a = torch.rand(128,600).cuda()"
      ],
      "execution_count": 0,
      "outputs": []
    },
    {
      "cell_type": "code",
      "metadata": {
        "id": "pVE5Jno5S43s",
        "colab_type": "code",
        "colab": {}
      },
      "source": [
        "b = np.random.rand(128,600)"
      ],
      "execution_count": 0,
      "outputs": []
    },
    {
      "cell_type": "code",
      "metadata": {
        "id": "aEU-RZaxEJJV",
        "colab_type": "code",
        "colab": {}
      },
      "source": [
        "def func(obj):\n",
        "  out = obj**2\n",
        "  return out"
      ],
      "execution_count": 0,
      "outputs": []
    },
    {
      "cell_type": "code",
      "metadata": {
        "id": "ZrYAKuaLE9cA",
        "colab_type": "code",
        "outputId": "cce0a7aa-90ee-4c52-e75c-dc3d73c25ee8",
        "colab": {
          "base_uri": "https://localhost:8080/",
          "height": 51
        }
      },
      "source": [
        "%timeit func(a)"
      ],
      "execution_count": 0,
      "outputs": [
        {
          "output_type": "stream",
          "text": [
            "The slowest run took 1600.61 times longer than the fastest. This could mean that an intermediate result is being cached.\n",
            "100000 loops, best of 3: 10.1 µs per loop\n"
          ],
          "name": "stdout"
        }
      ]
    },
    {
      "cell_type": "code",
      "metadata": {
        "id": "59OieVqETBfd",
        "colab_type": "code",
        "outputId": "b72a46e0-c80f-4f7f-d437-38443faafe71",
        "colab": {
          "base_uri": "https://localhost:8080/",
          "height": 51
        }
      },
      "source": [
        "%timeit func(b)"
      ],
      "execution_count": 0,
      "outputs": [
        {
          "output_type": "stream",
          "text": [
            "The slowest run took 13.36 times longer than the fastest. This could mean that an intermediate result is being cached.\n",
            "10000 loops, best of 3: 86.1 µs per loop\n"
          ],
          "name": "stdout"
        }
      ]
    },
    {
      "cell_type": "code",
      "metadata": {
        "id": "Ye49HUCtTVo_",
        "colab_type": "code",
        "colab": {}
      },
      "source": [
        "# class DAXModel:\n",
        "#  def __init__(self):\n",
        "#    self.representation = representation # Adiabatic or Diabatic"
      ],
      "execution_count": 0,
      "outputs": []
    }
  ]
}