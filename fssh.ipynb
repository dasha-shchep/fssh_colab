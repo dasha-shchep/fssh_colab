{
  "nbformat": 4,
  "nbformat_minor": 0,
  "metadata": {
    "colab": {
      "name": "fssh.ipynb",
      "provenance": [],
      "authorship_tag": "ABX9TyNBeo3T/c60KBFc9K78/LGx",
      "include_colab_link": true
    },
    "kernelspec": {
      "name": "python3",
      "display_name": "Python 3"
    },
    "accelerator": "GPU"
  },
  "cells": [
    {
      "cell_type": "markdown",
      "metadata": {
        "id": "view-in-github",
        "colab_type": "text"
      },
      "source": [
        "<a href=\"https://colab.research.google.com/github/dasha-shchep/fssh_colab/blob/master/fssh.ipynb\" target=\"_parent\"><img src=\"https://colab.research.google.com/assets/colab-badge.svg\" alt=\"Open In Colab\"/></a>"
      ]
    },
    {
      "cell_type": "markdown",
      "metadata": {
        "id": "PZ-pyE9nCUvy",
        "colab_type": "text"
      },
      "source": [
        "# Implementing the FSSH algorithm on Tully's example problems\n",
        "This notebook will go through the basic FSSH algorithm and run parallel trajectories as described in the original paper - Tully, J.C. *J. Chem. Phys.* (1990) **93** 1061."
      ]
    },
    {
      "cell_type": "code",
      "metadata": {
        "id": "O31aTG_wGxLt",
        "colab_type": "code",
        "colab": {
          "base_uri": "https://localhost:8080/",
          "height": 190
        },
        "outputId": "b4b76183-6690-410d-b22e-68f2f72d1108"
      },
      "source": [
        "import numpy as np\n",
        "# !pip install pyscf\n",
        "# from pyscf import scf"
      ],
      "execution_count": 2,
      "outputs": [
        {
          "output_type": "stream",
          "text": [
            "Collecting pyscf\n",
            "\u001b[?25l  Downloading https://files.pythonhosted.org/packages/22/37/c9ed47f2b3f92a4f6955ab5454bf364cee6c05edb40e35b31b21b56d39f4/pyscf-1.7.0-cp36-cp36m-manylinux1_x86_64.whl (24.3MB)\n",
            "\u001b[K     |████████████████████████████████| 24.3MB 1.3MB/s \n",
            "\u001b[?25hRequirement already satisfied: numpy in /usr/local/lib/python3.6/dist-packages (from pyscf) (1.17.5)\n",
            "Requirement already satisfied: h5py in /usr/local/lib/python3.6/dist-packages (from pyscf) (2.8.0)\n",
            "Requirement already satisfied: scipy in /usr/local/lib/python3.6/dist-packages (from pyscf) (1.4.1)\n",
            "Requirement already satisfied: six in /usr/local/lib/python3.6/dist-packages (from h5py->pyscf) (1.12.0)\n",
            "Installing collected packages: pyscf\n",
            "Successfully installed pyscf-1.7.0\n"
          ],
          "name": "stdout"
        }
      ]
    },
    {
      "cell_type": "markdown",
      "metadata": {
        "id": "hzHGKNGaIGRV",
        "colab_type": "text"
      },
      "source": [
        "The three types of model potential that Tully described are:\n",
        "\n",
        "A. Simple avoided crossing (SAX)\n",
        "\n",
        "B. Dual avoided crossing (DAX)\n",
        "\n",
        "C. Extended coupling with reflection (ECR)\n",
        "\n",
        "On the next line we create a SAX potential:"
      ]
    },
    {
      "cell_type": "code",
      "metadata": {
        "id": "WHIGQHk9CO8Z",
        "colab_type": "code",
        "colab": {}
      },
      "source": [
        "# Setting up model (1-D potential) classes\n",
        "# Creating a class will enable us to play with more complex model potentials later\n",
        "class SAXModel:\n",
        "  num_states_ = 2\n",
        "  \n",
        "  def __init__(self):\n",
        "    self.representation = representation # Adiabatic or Diabatic\n",
        "\n",
        "  def V(self,R):\n",
        "\n",
        "\n",
        "  def dV(self,R):\n",
        "\n",
        "class DAXModel:\n",
        "  def __init__(self):\n",
        "    self.representation = representation # Adiabatic or Diabatic\n",
        "    "
      ],
      "execution_count": 0,
      "outputs": []
    },
    {
      "cell_type": "code",
      "metadata": {
        "id": "h8on_hEnlw5A",
        "colab_type": "code",
        "colab": {}
      },
      "source": [
        ""
      ],
      "execution_count": 0,
      "outputs": []
    },
    {
      "cell_type": "code",
      "metadata": {
        "id": "nVKMXrJWOzvG",
        "colab_type": "code",
        "colab": {}
      },
      "source": [
        "# Generate initial conditions\n",
        "numTraj = 100\n",
        "initP = 0\n",
        "initQ = 1"
      ],
      "execution_count": 0,
      "outputs": []
    },
    {
      "cell_type": "code",
      "metadata": {
        "id": "xOuQS4WPO3-y",
        "colab_type": "code",
        "colab": {}
      },
      "source": [
        "# Classical nuclei velocity verlet integrator"
      ],
      "execution_count": 0,
      "outputs": []
    },
    {
      "cell_type": "code",
      "metadata": {
        "id": "PiJrezKtPETB",
        "colab_type": "code",
        "colab": {}
      },
      "source": [
        "# Calculate hopping probability & random number generator"
      ],
      "execution_count": 0,
      "outputs": []
    }
  ]
}