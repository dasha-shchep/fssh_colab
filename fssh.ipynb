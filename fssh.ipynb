{
  "nbformat": 4,
  "nbformat_minor": 0,
  "metadata": {
    "colab": {
      "name": "Copy of fssh.ipynb",
      "provenance": [],
      "collapsed_sections": [],
      "authorship_tag": "ABX9TyNc1r0WRxgsC0Ova5k+T/SA",
      "include_colab_link": true
    },
    "kernelspec": {
      "name": "python3",
      "display_name": "Python 3"
    },
    "accelerator": "GPU"
  },
  "cells": [
    {
      "cell_type": "markdown",
      "metadata": {
        "id": "view-in-github",
        "colab_type": "text"
      },
      "source": [
        "<a href=\"https://colab.research.google.com/github/dasha-shchep/fssh_colab/blob/master/fssh.ipynb\" target=\"_parent\"><img src=\"https://colab.research.google.com/assets/colab-badge.svg\" alt=\"Open In Colab\"/></a>"
      ]
    },
    {
      "cell_type": "markdown",
      "metadata": {
        "id": "PZ-pyE9nCUvy",
        "colab_type": "text"
      },
      "source": [
        "# Implementing the FSSH algorithm on Tully's example problems\n",
        "This notebook will go through the basic FSSH algorithm and run parallel trajectories as described in the original paper - Tully, J.C. *J. Chem. Phys.* (1990) **93** 1061 - [here](https://doi.org/10.1063/1.459170)."
      ]
    },
    {
      "cell_type": "code",
      "metadata": {
        "id": "O31aTG_wGxLt",
        "colab_type": "code",
        "colab": {}
      },
      "source": [
        "import numpy as np\n",
        "import matplotlib.pyplot as plt\n",
        "# !pip install pyscf\n",
        "# from pyscf import scf"
      ],
      "execution_count": 0,
      "outputs": []
    },
    {
      "cell_type": "markdown",
      "metadata": {
        "id": "hzHGKNGaIGRV",
        "colab_type": "text"
      },
      "source": [
        "We will limit ourselves at this stage to a two-state model system.\n",
        "These three types of model potential that Tully described are:\n",
        "\n",
        "A. Simple avoided crossing (SAX)\n",
        "\n",
        "B. Dual avoided crossing (DAX)\n",
        "\n",
        "C. Extended coupling with reflection (ECR)\n",
        "\n",
        "On the next line we create a SAX potential class:"
      ]
    },
    {
      "cell_type": "code",
      "metadata": {
        "id": "WHIGQHk9CO8Z",
        "colab_type": "code",
        "colab": {}
      },
      "source": [
        "# Setting up model (1-D potential) classes\n",
        "# Creating a model class lets us play with more complex model potentials later\n",
        "class SAXModel:\n",
        "  \"\"\"\n",
        "  First model two-level problem defined by the following interactions in the\n",
        "  diabatic representstion:\n",
        "  V11(X) = A[1 - exp(-BX)] for x > 0\n",
        "  V11(X) = - A[1 - exp(BX)] for x < 0\n",
        "  V22(X) = - V11(X)\n",
        "  V21(X) = V12(X) = C exp(-DX**2)\n",
        "  Default choice of parameters:\n",
        "  A = 0.01 ; B = 1.6 ; C = 0.005 ; D = 1.0\n",
        "  \"\"\"\n",
        "  _num_states = 2\n",
        "  _num_dims   = 1\n",
        "  \n",
        "  def __init__(self,a=0.01,b=1.6,c=0.005,d=1.0):\n",
        "    self.A = a\n",
        "    self.B = b\n",
        "    self.C = c\n",
        "    self.D = d\n",
        "\n",
        "  def V(self,R):\n",
        "    sign = np.sign(R)\n",
        "    V11 = sign*self.A*(1 - np.exp(-self.B*sign*R))\n",
        "    V22 = -V11\n",
        "    V12 = self.C*np.exp(-self.D*R**2)\n",
        "    V21 = V12\n",
        "    return np.array([[V11,V12],[V21,V22]])\n",
        "\n",
        "  def dV(self,R):\n",
        "    sign = np.sign(R)\n",
        "    dV11 = self.A*self.B*np.exp(-self.B*abs(R))\n",
        "    dV22 = - dV11\n",
        "    dV12 = self.C*np.exp(-self.D*R**2)\n",
        "    dV21 = dV12\n",
        "    return np.array([[dV11,dV12],[dV21,dV22]])\n",
        "\n",
        "  def diagonalize(self,R):\n",
        "    self.position = R\n",
        "    hamiltonian = self.V(R)\n",
        "    eigenvalues, eigenvectors = np.linalg.eigh(hamiltonian)\n",
        "    return eigenvalues, eigenvectors\n",
        "\n",
        "  def NAC(self,R):\n",
        "    z = (self.V(R)[0,0] - self.V(R)[1,1])/(self.V(R)[0,1]*2e0)\n",
        "    D12 = - 1/(2*(1+z**2))*((1/(2*self.V(R)[0,1]**2)) * \n",
        "          (self.V(R)[0,1]*(self.dV(R)[0,0]-self.dV(R)[1,1])) \n",
        "          -self.dV(R)[0,1]*(self.V(R)[0,0]-self.V(R)[1,1]))\n",
        "    D21 = -D12\n",
        "    D11 = 0\n",
        "    D22 = 0\n",
        "    return np.array([[D11,D12],[D21,D22]])\n"
      ],
      "execution_count": 0,
      "outputs": []
    },
    {
      "cell_type": "markdown",
      "metadata": {
        "id": "QbgkjS83zXhF",
        "colab_type": "text"
      },
      "source": [
        "Nonadiabatic coupling between states 1 and 2 is given by\n",
        "\n",
        "$d_{12}(R) = \\langle\\phi_{1}(r;R)|\\nabla_{R}\\phi_{2}(r;R)\\rangle$\n",
        "\n",
        "where the electronic coordinate $r$ is parametrically dependent on the nuclear coordinate $R$.\n",
        "\n",
        "In the above class it was analytically derived from eigenvectors of V."
      ]
    },
    {
      "cell_type": "code",
      "metadata": {
        "id": "h8on_hEnlw5A",
        "colab_type": "code",
        "outputId": "7c4dba3e-70a6-4752-aa07-40cf071b6e78",
        "colab": {
          "base_uri": "https://localhost:8080/",
          "height": 34
        }
      },
      "source": [
        "# Instance of SAX class\n",
        "model = SAXModel()\n",
        "model._num_states"
      ],
      "execution_count": 9,
      "outputs": [
        {
          "output_type": "execute_result",
          "data": {
            "text/plain": [
              "2"
            ]
          },
          "metadata": {
            "tags": []
          },
          "execution_count": 9
        }
      ]
    },
    {
      "cell_type": "code",
      "metadata": {
        "id": "ZVdzQUCTyPtk",
        "colab_type": "code",
        "colab": {
          "base_uri": "https://localhost:8080/",
          "height": 34
        },
        "outputId": "0569a1ae-0540-454b-d6c1-31474d1f0f2c"
      },
      "source": [
        "a=0.01;b=1.6;c=0.005;d=1.0;\n",
        "def coupling(x):\n",
        "  if (x > 0):\n",
        "    dcoup = 3\n",
        "    # dcoup=((4*c*(a*b - (a*b*(-1.0+np.exp(b*x)))/np.exp(b*x)))/\n",
        "    #   -    (np.exp(d*x**2)*((4*c**2)/np.exp(2*d*x**2) +\n",
        "    #   -    4*a**2*(1.0 - np.exp(-(b*x)))**2)) +\n",
        "    #   -    (8*a*c*d*(1.0 - np.exp(-(b*x)))*x)/\n",
        "    #   -    (np.exp(d*x**2)*((4*c**2)/np.exp(2*d*x**2) +\n",
        "    #   -    4*a**2*(1.0 - np.exp(-(b*x)))**2)))/2.0\n",
        "  else:\n",
        "    dcoup = 4\n",
        "      # dcoup=((4*a*b*c*np.exp(b*x-d*x**2))/\n",
        "      # -    ((4*c**2)/np.exp(2*d*x**2)+4*a**2*(1.0-np.exp(b*x))**2)-\n",
        "      # -    (8*a*c*d*(1.0 - np.exp(b*x))*x)/\n",
        "      # -    (np.exp(d*x**2)*((4*c**2)/np.exp(2*d*x**2) +\n",
        "      # -    4*a**2*(1.0-np.exp(b*x))**2)))/2.0\n",
        "  return dcoup\n",
        "\n",
        "coupling(-3)"
      ],
      "execution_count": 6,
      "outputs": [
        {
          "output_type": "execute_result",
          "data": {
            "text/plain": [
              "4"
            ]
          },
          "metadata": {
            "tags": []
          },
          "execution_count": 6
        }
      ]
    },
    {
      "cell_type": "markdown",
      "metadata": {
        "id": "ECd6aqHRoF-X",
        "colab_type": "text"
      },
      "source": [
        "Plotting the potentials in the adiabatic representation, with nonadiabatic coupling."
      ]
    },
    {
      "cell_type": "code",
      "metadata": {
        "id": "b6idn9vIk33O",
        "colab_type": "code",
        "outputId": "337e239b-bca5-4047-ec68-cc79f761fe66",
        "colab": {
          "base_uri": "https://localhost:8080/",
          "height": 283
        }
      },
      "source": [
        "xmin,xmax = -10,10;\n",
        "x = np.linspace(xmin,xmax,1000);\n",
        "tens = model.V(x);\n",
        "eigA = np.zeros(len(x));\n",
        "eigB = np.zeros(len(x));\n",
        "for i in range(len(x)):\n",
        "  eigA[i] = np.linalg.eigh(tens[:,:,i])[0][0]\n",
        "  eigB[i] = np.linalg.eigh(tens[:,:,i])[0][1]\n",
        "\n",
        "fig = plt.figure()\n",
        "# plot diabatic PES\n",
        "# plt.plot(x, model.V(x)[1,1], 'k-')\n",
        "# plt.plot(x, model.dV(x)[0,0], 'k-');\n",
        "# plot adiabatic PES\n",
        "plt.plot(x, eigA, 'k-');\n",
        "plt.plot(x, eigB, 'k-');\n",
        "plt.plot(x, 0.02*model.NAC(x)[1,0], 'k--');\n",
        "plt.ylim([-0.02,0.04]);\n",
        "plt.ylabel(\"Energy\");\n",
        "plt.xlim([-10,10]);\n",
        "plt.xlabel(\"R coordinate\");"
      ],
      "execution_count": 21,
      "outputs": [
        {
          "output_type": "display_data",
          "data": {
            "image/png": "[encoded data removed]",
            "text/plain": [
              "<Figure size 432x288 with 1 Axes>"
            ]
          },
          "metadata": {
            "tags": [],
            "needs_background": "light"
          }
        }
      ]
    },
    {
      "cell_type": "markdown",
      "metadata": {
        "id": "3uC1qODQRj1D",
        "colab_type": "text"
      },
      "source": [
        "Now that we have the model, can follow step 1:\n",
        "\n",
        "**Initial conditions for the first trajectory are assigned consistent with the experiment to be simulated. This includes assignment of the initial positions and momenta of all of the atoms, and assignment of the initial electronic density matrix elements $a_{kj}$ Typically, only a single electronic\n",
        "state $k$ will be populated initially, i.e., $a_{lj} = \\delta_{lk} \\delta_{jk}$ There is no reason, however, why the initial conditions could not correspond to a coherent or incoherent mixture of electronic\n",
        "states.**"
      ]
    },
    {
      "cell_type": "code",
      "metadata": {
        "id": "HsKezExTrzQb",
        "colab_type": "code",
        "colab": {}
      },
      "source": [
        "# Initial momentum\n",
        "p0 = 10.0\n",
        "# Initial position\n",
        "x0 = -6.0\n",
        "# Initial electronic density matrix: adiabatic population all in state 1 (0 with Python indexing)\n",
        "a0 = [[1,0],[0,0]]\n",
        "# Timestep (a.u.)\n",
        "dt = 0.5\n",
        "# Mass (a.u.)\n",
        "mass = 2000.0"
      ],
      "execution_count": 0,
      "outputs": []
    },
    {
      "cell_type": "markdown",
      "metadata": {
        "id": "yLRZOlKbUFdL",
        "colab_type": "text"
      },
      "source": [
        "Integration of the classical degrees of freedom via the velocity verlet algorithm, as described in step 2.\n",
        "\n",
        "**The classical mechanical equations of motion for the atoms on the current potential energy surface $V_{kk}$ are integrated for a small time interval $\\Delta t$. Equations (8) for the electronic amplitudes or Eq. (11) for the density matrix elements are integrated along this trajectory. The time interval $\\Delta t$ may be a single numerical integration time step, or a few steps, so long as it is sufficiently short that the electronic probabilities change only slightly during any interval.**\n",
        "\n",
        "Eq. (8):\n",
        "\n",
        "$i\\hbar\\dot{c}_{k} = \\sum_{j} c_{j}\\left(V_{kj}-i\\hbar \\bf{\\dot{R}\\!\\cdot\\! d_{kj}}\\right)$\n",
        "\n",
        "Eq. (11):\n",
        "\n",
        "$i\\hbar\\dot{a}_{kj} = \\sum_{l} \\left(a_{lj}\\left[V_{kl}-i\\hbar \\bf{\\dot{R}\\!\\cdot\\! d_{kl}}\\right]-a_{kl}\\left[V_{lj}-i\\hbar \\bf{\\dot{R}\\!\\cdot\\! d_{lj}}\\right]\\right)$\n",
        "\n",
        "where\n",
        "$a_{kj} = c_k^*c_j $."
      ]
    },
    {
      "cell_type": "code",
      "metadata": {
        "id": "WjBoypC6EbNR",
        "colab_type": "code",
        "colab": {}
      },
      "source": [
        "# Classical propagation of the nuclear DoF with a standard velocity verlet algorithm\n",
        "def vv(x0ld,p0ld,dt,state,mass):\n",
        "  v0ld = p0ld/mass\n",
        "  a0ld = - model.dV(x0ld)[state,state]/mass\n",
        "  xnew = x0ld + v0ld*dt + 0.5*a0ld*dt*dt\n",
        "  anew = - model.dV(xnew)[state,state]/mass\n",
        "  pnew = p0ld + 0.5*(a0ld+anew)*dt*mass\n",
        "  return xnew, pnew\n",
        "\n",
        "# Kinetic Energy\n",
        "def ke(momentum,mass):\n",
        "  vel = momentum/mass\n",
        "  return 0.5*vel*vel*mass\n",
        "\n",
        "# Potential Energy\n",
        "def pe(position,state):\n",
        "  return model.V(position)[state,state]\n",
        "\n",
        "# Total Energy\n",
        "def te(position,momentum,state,mass):\n",
        "  return pe(position,state)+ke(momentum,mass)\n",
        "\n",
        "# Propagation of the density matrix elements a_ij\n",
        "def dm(c1,c2):\n",
        "  a11 = c1*np.conj(c1)\n",
        "  a12 = c1*np.conj(c2)\n",
        "  a21 = np.conj(a12)\n",
        "  a22 = c2*np.conj(c2)\n",
        "  anew = [[a11,a12],[a21,a22]]\n",
        "  return anew"
      ],
      "execution_count": 0,
      "outputs": []
    },
    {
      "cell_type": "code",
      "metadata": {
        "id": "Q0vq7OuT69wY",
        "colab_type": "code",
        "colab": {}
      },
      "source": [
        "traj_x = [(-3,5),(-2,1),(4,6),(-4,2),(4,5)];\n",
        "traj_x[1][1];\n",
        "time = 0\n",
        "list = []\n",
        "state = 0\n",
        "while time < 300:\n",
        "  traj_x = [vv(x[0],x[1],dt=10,state=state,mass=mass) for x in traj_x]\n",
        "  list.append(traj_x)\n",
        "  time += dt"
      ],
      "execution_count": 0,
      "outputs": []
    },
    {
      "cell_type": "code",
      "metadata": {
        "id": "SVwBkiaewXTV",
        "colab_type": "code",
        "colab": {}
      },
      "source": [
        "trajectoryApos = []\n",
        "trajectoryAmom = []\n",
        "Kenergy = []\n",
        "Penergy = []\n",
        "Tenergy = []\n",
        "for i in range(600):\n",
        "  trajectoryApos.append(list[i][3][0])\n",
        "  trajectoryAmom.append(list[i][3][1])\n",
        "  Kenergy.append(ke(trajectoryAmom[i],mass=mass))\n",
        "  Penergy.append(pe(trajectoryApos[i],state=state))\n",
        "  Tenergy.append(te(trajectoryApos[i],trajectoryAmom[i],state=state,mass=mass))\n",
        "\n"
      ],
      "execution_count": 0,
      "outputs": []
    },
    {
      "cell_type": "code",
      "metadata": {
        "id": "4_yQRYDeryTW",
        "colab_type": "code",
        "outputId": "e4f93a80-8e93-4360-fca2-376425155767",
        "colab": {
          "base_uri": "https://localhost:8080/",
          "height": 265
        }
      },
      "source": [
        "fig, (ax1, ax2) = plt.subplots(1, 2);\n",
        "ax1.plot(Kenergy);\n",
        "ax1.plot(Penergy);\n",
        "ax1.plot(Tenergy);\n",
        "ax2.plot(trajectoryApos,trajectoryAmom);"
      ],
      "execution_count": 0,
      "outputs": [
        {
          "output_type": "display_data",
          "data": {
            "image/png": "[encoded data removed]",
            "text/plain": [
              "<Figure size 432x288 with 2 Axes>"
            ]
          },
          "metadata": {
            "tags": []
          }
        }
      ]
    },
    {
      "cell_type": "code",
      "metadata": {
        "id": "ktcWsNjdWBHk",
        "colab_type": "code",
        "outputId": "ca05d39c-aa63-4167-ea7b-369aadad2b14",
        "colab": {
          "base_uri": "https://localhost:8080/",
          "height": 34
        }
      },
      "source": [
        "# initialize electronic state\n",
        "c1 = 0.9\n",
        "c2 = np.sqrt(1.-c1*c1)\n",
        "a11 = c1*np.conj(c1)\n",
        "a12 = c1*np.conj(c2)\n",
        "a21 = np.conj(a12)\n",
        "a22 = c2*np.conj(c2)\n",
        "a0 = [[a11,a12],[a21,a22]]\n",
        "a0"
      ],
      "execution_count": 0,
      "outputs": [
        {
          "output_type": "execute_result",
          "data": {
            "text/plain": [
              "[[0.81, 0.39230090491866054], [0.39230090491866054, 0.18999999999999992]]"
            ]
          },
          "metadata": {
            "tags": []
          },
          "execution_count": 10
        }
      ]
    },
    {
      "cell_type": "code",
      "metadata": {
        "id": "iAgVNsj0tk3u",
        "colab_type": "code",
        "colab": {}
      },
      "source": [
        "x0=-0.1\n",
        "p0=1000\n",
        "hbar = 1\n",
        "c1 += dt*(c1*model.V(x0)[0,0]/(1j*hbar) - c2*(p0/mass)*model.NAC(x0)[0,0]);\n",
        "c2 += dt*(c2*model.V(x0)[0,0]/(1j*hbar) + c1*(p0/mass)*model.NAC(x0)[1,1]);\n",
        "c1\n",
        "a = dm(c1,c2)"
      ],
      "execution_count": 0,
      "outputs": []
    },
    {
      "cell_type": "code",
      "metadata": {
        "id": "80LC4BuxNYYJ",
        "colab_type": "code",
        "colab": {}
      },
      "source": [
        "b12 = -2.*(np.conj(a[0][1])*(p0/mass)*model.NAC(x0)).real\n",
        "b21 =  2.*(np.conj(a[1][0])*(p0/mass)*model.NAC(x0)).real"
      ],
      "execution_count": 0,
      "outputs": []
    },
    {
      "cell_type": "code",
      "metadata": {
        "id": "3Hz97FBfOVs0",
        "colab_type": "code",
        "outputId": "208e8c80-6504-42c2-c61f-540752a33080",
        "colab": {
          "base_uri": "https://localhost:8080/",
          "height": 34
        }
      },
      "source": [
        "dt*b21[1][0]/(a[0][0].real)"
      ],
      "execution_count": 0,
      "outputs": [
        {
          "output_type": "execute_result",
          "data": {
            "text/plain": [
              "0.30617508929203485"
            ]
          },
          "metadata": {
            "tags": []
          },
          "execution_count": 13
        }
      ]
    },
    {
      "cell_type": "markdown",
      "metadata": {
        "id": "pmhipo767dPH",
        "colab_type": "text"
      },
      "source": [
        "Step 3:\n",
        "\n",
        "**The switching probabilities $g_{kj}$ from the current electronic state $k$ to all other states $j$ are computed from the density matrix elements using Eq. (14) and the expression**\n",
        "\n",
        "$g_{kj} = \\frac{\\Delta t b_{jk}}{a_{kk}}$\n",
        "\n",
        "**If $g_{kj}$ from Eq. (19) is negative, it is set equal to zero. A uniform random number, $\\zeta$, $ 0 < \\zeta < 1$, is then selected to determine whether a switch to any state $j$ will be invoked. For example, if $k = 1$, a switch to state 2 will occur if $\\zeta < g_{12}$. A switch to state 3 will occur if $g_{12} < \\zeta < g_{13} + g_{13}$ etc.**"
      ]
    },
    {
      "cell_type": "code",
      "metadata": {
        "id": "z34A0M3L7YII",
        "colab_type": "code",
        "colab": {}
      },
      "source": [
        "# Calculate hopping probability & random number generator\n",
        "def surface_hop():\n",
        "  zeta = np.random.rand()\n",
        "  test = dt*b21[1][0]/(a[0][0].real)\n",
        "  if zeta < test:\n",
        "    bool = True\n",
        "  elif zeta > test:\n",
        "    bool = False\n",
        "  else:\n",
        "    print(\"Error\")\n",
        "  return bool"
      ],
      "execution_count": 0,
      "outputs": []
    },
    {
      "cell_type": "code",
      "metadata": {
        "id": "sUbspUfmFII7",
        "colab_type": "code",
        "outputId": "0c3c351b-d11b-43a1-bff3-785042a0fcf1",
        "colab": {
          "base_uri": "https://localhost:8080/",
          "height": 34
        }
      },
      "source": [
        "surface_hop()"
      ],
      "execution_count": 0,
      "outputs": [
        {
          "output_type": "execute_result",
          "data": {
            "text/plain": [
              "True"
            ]
          },
          "metadata": {
            "tags": []
          },
          "execution_count": 15
        }
      ]
    },
    {
      "cell_type": "code",
      "metadata": {
        "id": "0tsBoB1nU2Oy",
        "colab_type": "code",
        "outputId": "eb83d26a-aa97-4ecd-8e8f-accfe36317c3",
        "colab": {
          "base_uri": "https://localhost:8080/",
          "height": 204
        }
      },
      "source": [
        "vect = np.random.rand(1,8)\n",
        "print(vect)\n",
        "for i in vect:\n",
        "  print(model.V(i))\n"
      ],
      "execution_count": 0,
      "outputs": [
        {
          "output_type": "stream",
          "text": [
            "[[0.53031308 0.94950789 0.75185514 0.48055579 0.6764164  0.56763408\n",
            "  0.61814736 0.70126356]]\n",
            "[[[ 0.00571944  0.00781116  0.00699698  0.00536472  0.00661173\n",
            "    0.00596756  0.00628065  0.00674379]\n",
            "  [ 0.00377427  0.00202967  0.00284099  0.00396896  0.0031642\n",
            "    0.00362274  0.00341211  0.00305771]]\n",
            "\n",
            " [[ 0.00377427  0.00202967  0.00284099  0.00396896  0.0031642\n",
            "    0.00362274  0.00341211  0.00305771]\n",
            "  [-0.00571944 -0.00781116 -0.00699698 -0.00536472 -0.00661173\n",
            "   -0.00596756 -0.00628065 -0.00674379]]]\n"
          ],
          "name": "stdout"
        }
      ]
    },
    {
      "cell_type": "code",
      "metadata": {
        "id": "nVKMXrJWOzvG",
        "colab_type": "code",
        "colab": {}
      },
      "source": [
        "# Generate initial conditions\n",
        "numTraj = 100\n",
        "dT = 1 # timestep\n",
        "initP = 0\n",
        "initQ = 1\n",
        "mass = 2000"
      ],
      "execution_count": 0,
      "outputs": []
    },
    {
      "cell_type": "code",
      "metadata": {
        "id": "xOuQS4WPO3-y",
        "colab_type": "code",
        "outputId": "d3f1f7e9-c185-4ea9-9ca4-e71c415fef18",
        "colab": {
          "base_uri": "https://localhost:8080/",
          "height": 34
        }
      },
      "source": [
        "# Classical nuclei velocity verlet integrator\n",
        "acceleration = force / mass\n",
        "def velocity_verlet(old_position, old_velocity, timestep,acceleration):\n",
        "  new_position = old_position + old_velocity * timestep\n",
        "  new_velocity = old_velocity + acceleration * timestep\n",
        "  return new_position, new_velocity"
      ],
      "execution_count": 0,
      "outputs": [
        {
          "output_type": "execute_result",
          "data": {
            "text/plain": [
              "0.11418160778148789"
            ]
          },
          "metadata": {
            "tags": []
          },
          "execution_count": 5
        }
      ]
    },
    {
      "cell_type": "code",
      "metadata": {
        "id": "PiJrezKtPETB",
        "colab_type": "code",
        "colab": {}
      },
      "source": [
        "# Calculate hopping probability & random number generator\n",
        "def surface_hop():\n",
        "  random_number = np.random.rand()\n",
        "  test\n",
        "  if random_number < test:\n",
        "    bool = True\n",
        "  elif random_number > test:\n",
        "    bool = False\n",
        "  else:\n",
        "    print(\"Error\")\n",
        "  return bool"
      ],
      "execution_count": 0,
      "outputs": []
    },
    {
      "cell_type": "markdown",
      "metadata": {
        "id": "_mYs3vMkC2lP",
        "colab_type": "text"
      },
      "source": [
        "Trying to run CUDA on Colab GPUs"
      ]
    },
    {
      "cell_type": "code",
      "metadata": {
        "id": "3ubBOwvhC13R",
        "colab_type": "code",
        "colab": {}
      },
      "source": [
        "import torch"
      ],
      "execution_count": 0,
      "outputs": []
    },
    {
      "cell_type": "code",
      "metadata": {
        "id": "wFDJzyjPDaKh",
        "colab_type": "code",
        "outputId": "0c6b2bf7-173b-467e-dd08-7029ff33a0cc",
        "colab": {
          "base_uri": "https://localhost:8080/",
          "height": 34
        }
      },
      "source": [
        "torch.cuda.memory_allocated()"
      ],
      "execution_count": 2,
      "outputs": [
        {
          "output_type": "execute_result",
          "data": {
            "text/plain": [
              "0"
            ]
          },
          "metadata": {
            "tags": []
          },
          "execution_count": 2
        }
      ]
    },
    {
      "cell_type": "code",
      "metadata": {
        "id": "oYRzLOGGDp1r",
        "colab_type": "code",
        "colab": {}
      },
      "source": [
        "a = torch.rand(128,600).cuda()"
      ],
      "execution_count": 0,
      "outputs": []
    },
    {
      "cell_type": "code",
      "metadata": {
        "id": "pVE5Jno5S43s",
        "colab_type": "code",
        "colab": {}
      },
      "source": [
        "b = np.random.rand(128,600)"
      ],
      "execution_count": 0,
      "outputs": []
    },
    {
      "cell_type": "code",
      "metadata": {
        "id": "aEU-RZaxEJJV",
        "colab_type": "code",
        "colab": {}
      },
      "source": [
        "def func(obj):\n",
        "  out = obj**2\n",
        "  return out"
      ],
      "execution_count": 0,
      "outputs": []
    },
    {
      "cell_type": "code",
      "metadata": {
        "id": "ZrYAKuaLE9cA",
        "colab_type": "code",
        "outputId": "4e07b46e-5092-4e08-be3b-f57259ed6126",
        "colab": {
          "base_uri": "https://localhost:8080/",
          "height": 34
        }
      },
      "source": [
        "%timeit [func(i) for i in a]"
      ],
      "execution_count": 19,
      "outputs": [
        {
          "output_type": "stream",
          "text": [
            "1000 loops, best of 3: 1.75 ms per loop\n"
          ],
          "name": "stdout"
        }
      ]
    },
    {
      "cell_type": "code",
      "metadata": {
        "id": "59OieVqETBfd",
        "colab_type": "code",
        "outputId": "014b836a-235f-409e-9582-aa39c847cfc7",
        "colab": {
          "base_uri": "https://localhost:8080/",
          "height": 51
        }
      },
      "source": [
        "%timeit func(b)"
      ],
      "execution_count": 13,
      "outputs": [
        {
          "output_type": "stream",
          "text": [
            "The slowest run took 6.29 times longer than the fastest. This could mean that an intermediate result is being cached.\n",
            "10000 loops, best of 3: 84.5 µs per loop\n"
          ],
          "name": "stdout"
        }
      ]
    },
    {
      "cell_type": "code",
      "metadata": {
        "id": "Ye49HUCtTVo_",
        "colab_type": "code",
        "colab": {}
      },
      "source": [
        "# class DAXModel:\n",
        "#  def __init__(self):\n",
        "#    self.representation = representation # Adiabatic or Diabatic"
      ],
      "execution_count": 0,
      "outputs": []
    },
    {
      "cell_type": "code",
      "metadata": {
        "id": "AieRip1e6AU6",
        "colab_type": "code",
        "colab": {}
      },
      "source": [
        "# Initial electronic state (where to start the dynamics)\n",
        "cstate = 0\n",
        "\n",
        "# Time step (au)\n",
        "dt = 0.2\n",
        "\n",
        "# Time of simulation (au)\n",
        "t_init  = 0.0\n",
        "t_final = 1300.0\n",
        "\n",
        "# Seed for random number generator\n",
        "seed = 123\n",
        "\n",
        "# Flag to include decoherence\n",
        "decoherence = False"
      ],
      "execution_count": 0,
      "outputs": []
    },
    {
      "cell_type": "code",
      "metadata": {
        "id": "bJwJA5MQ6Ofi",
        "colab_type": "code",
        "colab": {}
      },
      "source": [
        "import os\n",
        "import sys\n",
        "import math\n",
        "import random\n",
        "from autograd import grad\n",
        "import autograd.numpy as np\n",
        "import warnings\n",
        "warnings.filterwarnings(\"ignore\")\n",
        "\n",
        "from scipy.linalg import expm\n",
        "from scipy.integrate import solve_ivp\n"
      ],
      "execution_count": 0,
      "outputs": []
    },
    {
      "cell_type": "code",
      "metadata": {
        "id": "42d7elnG57sh",
        "colab_type": "code",
        "colab": {}
      },
      "source": [
        "# Define number of electronic states\n",
        "nel = 2\n",
        "# PES parameters (atomic units)\n",
        "mass = 2000.0\n",
        "\n",
        "A = 0.1\n",
        "B = 0.28\n",
        "C = 0.015\n",
        "D = 0.06\n",
        "E = 0.05\n",
        "\n",
        "def V11(x):\n",
        "    return 0.0\n",
        "\n",
        "def V22(x):\n",
        "    return -A*(np.exp(-B*(x**2)))+E\n",
        "\n",
        "V12 = lambda x: C*np.exp(-D*(x**2))\n",
        "\n",
        "all_diabats = [V11, V22]\n",
        "all_couplings = [V12]"
      ],
      "execution_count": 0,
      "outputs": []
    },
    {
      "cell_type": "code",
      "metadata": {
        "id": "tXnbHk7r6IPO",
        "colab_type": "code",
        "colab": {}
      },
      "source": [
        "# Assert length of all diabats is nel\n",
        "# And length of coupling list is nel*(nel-1)/2\n",
        "assert len(all_diabats) == nel;\n",
        "assert len(all_couplings) == (nel*(nel-1))//2\n",
        "\n",
        "# Get adibatic energies\n",
        "def get_energies(x):\n",
        "\n",
        "    '''\n",
        "    Diagonalize nel x nel PEM at a given geometry to obtain the\n",
        "    adaiabtic electronic energies (and also eigenvectors).\n",
        "    '''\n",
        "\n",
        "    # Initialize\n",
        "    V_mat = np.zeros((nel, nel))\n",
        "\n",
        "    # Fill elements\n",
        "    for a in range(nel):\n",
        "        for b in range(nel):\n",
        "            if a == b:\n",
        "                V_mat[a][a] = all_diabats[a](x)\n",
        "            elif b > a:\n",
        "                # Use floor division for pure integers, unlike Python 2. Duh!\n",
        "                k = (nel*(nel)//2) - (nel-a)*((nel-a))//2 + b - a - 1\n",
        "                V_mat[a][b] = all_couplings[k](x)\n",
        "                V_mat[b][a] = V_mat[a][b]\n",
        "\n",
        "    # Diagonalize\n",
        "    E_val, E_vec  = np.linalg.eigh(V_mat)\n",
        "\n",
        "    return E_val, E_vec"
      ],
      "execution_count": 0,
      "outputs": []
    },
    {
      "cell_type": "code",
      "metadata": {
        "id": "XSb9fLVT6Xnm",
        "colab_type": "code",
        "colab": {}
      },
      "source": [
        "# Get gradients 'analytically'\n",
        "def makegradmatrix(x):\n",
        "\n",
        "    '''\n",
        "    dV/dx\n",
        "    '''\n",
        "\n",
        "    # Make grad matrix (evaluate at current x)\n",
        "    grad_matrix = np.zeros((nel, nel), dtype=np.ndarray)\n",
        "\n",
        "    # Use automatic differentiation to get gradients of individual Vmn\n",
        "    for a in range(nel):\n",
        "        for b in range(nel):\n",
        "            if a == b:\n",
        "                grad_matrix[a, b] = grad(all_diabats[a])(x)\n",
        "            elif a != b and a > b:\n",
        "                k = (nel*(nel)//2) - (nel-a)*((nel-a))//2 + b - a - 1\n",
        "                grad_matrix[a, b] = grad(all_couplings[k])(x)\n",
        "                grad_matrix[b, a] = grad_matrix[a, b]\n",
        "            else:\n",
        "                pass\n",
        "\n",
        "    return grad_matrix"
      ],
      "execution_count": 0,
      "outputs": []
    },
    {
      "cell_type": "code",
      "metadata": {
        "id": "Rmq631YP6bGf",
        "colab_type": "code",
        "colab": {}
      },
      "source": [
        "def get_gradients_and_nadvec(x):\n",
        "\n",
        "    '''\n",
        "    '''\n",
        "    # Initialize\n",
        "    analytical_gradients = np.zeros(nel)\n",
        "\n",
        "    # Diagonalize potential matrix\n",
        "    val, vec = get_energies(x)\n",
        "\n",
        "    # Make grad matrix (evaluate at current x)\n",
        "    grad_matrix = makegradmatrix(x)\n",
        "\n",
        "    # Get gradient\n",
        "    for a in range(nel):\n",
        "        analytical_gradients[a] = np.dot(vec[:,a].T, np.dot(grad_matrix, vec[:,a]))\n",
        "\n",
        "    # Get nonadiabatic coupling\n",
        "    nadvec = np.zeros((nel*(nel-1))//2)\n",
        "    for a in range(nel):\n",
        "        for b in range(nel):\n",
        "            if a != b and a > b:\n",
        "                # print(a, b)\n",
        "                k = (nel*(nel)//2) - (nel-a)*((nel-a))//2 + b - a - 1\n",
        "                # Nonadiabtic coupling between state a and b\n",
        "                numerator = np.dot(vec[:,b].T, np.dot(grad_matrix, vec[:,a]))\n",
        "                # TODO: Check for degerenacy of state a and state b\n",
        "                # Give Warning fo HUGE nadvec and quit if tending to infinity.\n",
        "                # NOTE: How do QM programs deal with it?\n",
        "                nadvec[k] = numerator/(val[b] - val[a])\n",
        "            else:\n",
        "                pass\n",
        "\n",
        "    return val, analytical_gradients, nadvec"
      ],
      "execution_count": 0,
      "outputs": []
    },
    {
      "cell_type": "code",
      "metadata": {
        "id": "YHMOFyxs6eUg",
        "colab_type": "code",
        "colab": {}
      },
      "source": [
        "hbar = 1.0\n",
        "\n",
        "def update_x(x_current, v_current, a_current, dt):\n",
        "\n",
        "    '''\n",
        "    x(t + dt) = x(t) + v(t)*dt + 0.5*a(t)*dt**2\n",
        "    '''\n",
        "    x_new = x_current + v_current*dt + 0.5*a_current*(dt**2)\n",
        "    return x_new\n",
        "\n",
        "\n",
        "def update_v(v_current, a_current, a_new, dt):\n",
        "    '''\n",
        "    v(t + dt) = v(t) + 0.5*(a(t) + a(t + dt))*dt\n",
        "    '''\n",
        "    v_new = v_current + 0.5*(a_current + a_new)*dt\n",
        "    return v_new\n",
        "\n",
        "\n",
        "def func_prop(t, y):\n",
        "    '''\n",
        "    Function for ODE solver\n",
        "    '''\n",
        "    return np.dot(e_prop_mat, y)"
      ],
      "execution_count": 0,
      "outputs": []
    },
    {
      "cell_type": "code",
      "metadata": {
        "id": "YdvlAi5y67Td",
        "colab_type": "code",
        "colab": {}
      },
      "source": [
        "def surface_hopping(c_coeff, x_current, v_current, f_current, E_ad, dt, cstate):\n",
        "    '''\n",
        "    Main function for surface hopping dynamics:\n",
        "\n",
        "    1. Solve TDSE (propagate electronic c)\n",
        "    2. Compute hopping probability (FSSH, others)\n",
        "    3. Adjust momentum if a hop has occured\n",
        "    '''\n",
        "\n",
        "    # Create density matrix\n",
        "    amat = np.outer(c_coeff, np.conj(c_coeff))\n",
        "\n",
        "    # Set HOP to False\n",
        "    HOP = False\n",
        "\n",
        "    # Create bmat and gmat\n",
        "    bmat = np.zeros((nel*(nel-1))//2)\n",
        "    gmat = np.zeros((nel*(nel-1))//2)\n",
        "\n",
        "    # Generate random number\n",
        "    rand_num = random.uniform(0, 1)\n",
        "\n",
        "    # Compute hopping probabilities (adiabatic) and decide whether to hop or not\n",
        "    for a in range(nel):\n",
        "        if a != cstate:\n",
        "            # print('Compute hopping from state', cstate, 'to state', a)\n",
        "            k = (nel*(nel)//2) - (nel-a)*((nel-a))//2 + cstate - a - 1\n",
        "            # Note that NACVEC satisfies: f_ab = - (f_ba)*\n",
        "            if a > cstate:\n",
        "                bmat[k] = - 2.*np.real(np.conj(amat[cstate,a])*(np.dot(v_current, f_current[k])))\n",
        "            else:\n",
        "                bmat[k] = - 2.*np.real(np.conj(amat[cstate,a])*(np.dot(v_current, -np.conj(f_current[k]))))\n",
        "                gmat[k] = max(0., (bmat[k]/np.real(amat[cstate, cstate]))*dt)\n",
        "            # print('k, gmat, rand_num', k, gmat[k], rand_num)\n",
        "            if gmat[k] > rand_num:\n",
        "                HOP = True\n",
        "                # print('Hopping from state', cstate, 'to state', a)\n",
        "                pstate = cstate\n",
        "                cstate = a\n",
        "                break\n",
        "            else:\n",
        "                pstate = cstate\n",
        "                continue\n",
        "        else:\n",
        "                pass\n",
        "\n",
        "    # If a hop has occurred, adjust momentum and check for frustrated hops\n",
        "    if HOP:\n",
        "        # Note that hop has occurred from pstate to cstate (new def)\n",
        "        # Compute quantities aij, bij (from the change in kinetic energy)\n",
        "        k = (nel*(nel)//2) - (nel-pstate)*((nel-pstate))//2 + cstate - pstate - 1\n",
        "        if pstate < cstate:\n",
        "            f_current[k] = - np.conj(f_current[k])\n",
        "        else:\n",
        "            pass\n",
        "        ak = (f_current[k]**2)/(2.*mass)\n",
        "        bk = f_current[k]*v_current\n",
        "        resid = bk**2 + 4.*ak*(E_ad[pstate] - E_ad[cstate])\n",
        "\n",
        "        # Check for real roots\n",
        "        if resid < 0. :\n",
        "            print('Frustated hop occurred. Reverse hopping and velocities')\n",
        "            gamma = bk/ak\n",
        "            v_new = v_current - gamma*(f_current[k]/mass)\n",
        "            # Reverse Hopping too!\n",
        "            HOP = False\n",
        "            temp = cstate\n",
        "            cstate = pstate\n",
        "            pstate = temp\n",
        "        else:\n",
        "            print('Adjusting momentum in a regular way after HOP')\n",
        "            if bk < 0.:\n",
        "                gamma = (bk + np.sqrt(resid))/(2.*ak)\n",
        "            else:\n",
        "                gamma = (bk - np.sqrt(resid))/(2.*ak)\n",
        "            v_new = v_current - gamma*(f_current[k]/mass)\n",
        "    else:\n",
        "        # No HOP has occurred. Exit gracefully!\n",
        "        v_new = v_current\n",
        "\n",
        "    return pstate, cstate, v_new, HOP"
      ],
      "execution_count": 0,
      "outputs": []
    },
    {
      "cell_type": "code",
      "metadata": {
        "id": "9h74aDTp7V_o",
        "colab_type": "code",
        "colab": {}
      },
      "source": [
        "x_init = -6.0\n",
        "v_init = 0.0075\n",
        "t = t_init"
      ],
      "execution_count": 0,
      "outputs": []
    },
    {
      "cell_type": "code",
      "metadata": {
        "id": "H0762WfY7hCp",
        "colab_type": "code",
        "colab": {}
      },
      "source": [
        "x_previous = x_init\n",
        "v_previous = v_init\n",
        "\n",
        "E_previous, G_previous, F_previous = get_gradients_and_nadvec(x_previous)\n",
        "a_previous = -G_previous[cstate]/mass\n",
        "\n",
        "ci_previous = np.zeros(nel, dtype='complex64')\n",
        "ci_previous[cstate] = 1.0\n",
        "\n",
        "count = 0"
      ],
      "execution_count": 0,
      "outputs": []
    },
    {
      "cell_type": "code",
      "metadata": {
        "id": "E5URBDSo798V",
        "colab_type": "code",
        "colab": {}
      },
      "source": [
        "while(t < t_final):\n",
        "        # Solve Nuclear Dynamics\n",
        "        x_current = update_x(x_previous, v_previous, a_previous, dt)\n",
        "        E_current, G_current, F_current = get_gradients_and_nadvec(x_current)\n",
        "        a_current = -G_current[cstate]/mass\n",
        "        v_current = update_v(v_previous, a_previous, a_current, dt)\n",
        "\n",
        "        # TDSE Propagator Matrix\n",
        "        e_prop_mat = np.zeros((nel, nel), dtype='complex64')\n",
        "        diag_elements = -1j*(E_current - E_current[0])/hbar\n",
        "        np.fill_diagonal(e_prop_mat, diag_elements)\n",
        "        for a in range(nel):\n",
        "            for b in range(nel):\n",
        "                if a != b and a > b:\n",
        "                    k = (nel*(nel)//2) - (nel-a)*((nel-a))//2 + b - a - 1\n",
        "                    e_prop_mat[a,b] = - np.dot(v_current, F_current[k])\n",
        "                    e_prop_mat[b,a] = - np.dot(v_current, - np.conj(F_current[k]))\n",
        "                else:\n",
        "                    pass\n",
        "\n",
        "        # Solve ODE. Ugh!\n",
        "        ci_current = solve_ivp(func_prop, (t, t+dt), ci_previous)['y'][:,1]\n",
        "\n",
        "        # Norm (or total population, should sum to 1.0)\n",
        "        total_population = 0.0\n",
        "        for i in range(nel):\n",
        "            total_population += abs(ci_current[i])**2\n",
        "        \n",
        "        E_kin = 0.5*mass*(v_current**2)\n",
        "        E_pot = E_current[cstate]\n",
        "        E_tot = E_kin + E_pot\n",
        "\n",
        "        # Call hopping subroutine: calculate hopping probability and adjust momentum\n",
        "        pstate, cstate, v_current, hop_status = surface_hopping(ci_current, x_current, v_current, F_current, E_current, dt, cstate)\n",
        "\n",
        "        # Set current to previous\n",
        "        x_previous = x_current\n",
        "        v_previous = v_current\n",
        "        a_previous = a_current\n",
        "        ci_previous = np.copy(ci_current)\n",
        "\n",
        "        # Update time\n",
        "        t = t + dt\n",
        "\n",
        "        # Update time counter\n",
        "        count += 1"
      ],
      "execution_count": 0,
      "outputs": []
    },
    {
      "cell_type": "code",
      "metadata": {
        "id": "Bm_P0v-eNoDA",
        "colab_type": "code",
        "colab": {}
      },
      "source": [
        ""
      ],
      "execution_count": 0,
      "outputs": []
    }
  ]
}