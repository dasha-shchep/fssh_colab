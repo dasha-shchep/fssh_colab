{
  "nbformat": 4,
  "nbformat_minor": 0,
  "metadata": {
    "colab": {
      "name": "Copy of fssh.ipynb",
      "provenance": [],
      "collapsed_sections": [],
      "authorship_tag": "ABX9TyN+FWHImixvi/PiPEJT9Wv6",
      "include_colab_link": true
    },
    "kernelspec": {
      "name": "python3",
      "display_name": "Python 3"
    },
    "accelerator": "GPU"
  },
  "cells": [
    {
      "cell_type": "markdown",
      "metadata": {
        "id": "view-in-github",
        "colab_type": "text"
      },
      "source": [
        "<a href=\"https://colab.research.google.com/github/dasha-shchep/fssh_colab/blob/master/fssh.ipynb\" target=\"_parent\"><img src=\"https://colab.research.google.com/assets/colab-badge.svg\" alt=\"Open In Colab\"/></a>"
      ]
    },
    {
      "cell_type": "markdown",
      "metadata": {
        "id": "PZ-pyE9nCUvy",
        "colab_type": "text"
      },
      "source": [
        "# Implementing the FSSH algorithm on Tully's example problems\n",
        "This notebook will go through the basic FSSH algorithm and run parallel trajectories as described in the original paper - Tully, J.C. *J. Chem. Phys.* (1990) **93** 1061."
      ]
    },
    {
      "cell_type": "code",
      "metadata": {
        "id": "O31aTG_wGxLt",
        "colab_type": "code",
        "colab": {}
      },
      "source": [
        "import numpy as np\n",
        "# !pip install pyscf\n",
        "# from pyscf import scf"
      ],
      "execution_count": 0,
      "outputs": []
    },
    {
      "cell_type": "markdown",
      "metadata": {
        "id": "hzHGKNGaIGRV",
        "colab_type": "text"
      },
      "source": [
        "The three types of model potential that Tully described are:\n",
        "\n",
        "A. Simple avoided crossing (SAX)\n",
        "\n",
        "B. Dual avoided crossing (DAX)\n",
        "\n",
        "C. Extended coupling with reflection (ECR)\n",
        "\n",
        "On the next line we create a SAX potential:"
      ]
    },
    {
      "cell_type": "code",
      "metadata": {
        "id": "WHIGQHk9CO8Z",
        "colab_type": "code",
        "colab": {}
      },
      "source": [
        "# Setting up model (1-D potential) classes\n",
        "# Creating a model class lets us play with more complex model potentials later\n",
        "class SAXModel:\n",
        "  \"\"\"\n",
        "  First model two-level problem defined by the following interactions in the\n",
        "  diabatic representstion:\n",
        "  V11(X) = A[1 - exp(-BX)] for x > 0\n",
        "  V11(X) = - A[1 - exp(BX)] for x < 0\n",
        "  V22(X) = - V11(X)\n",
        "  V21(X) = V12(X) = C exp(-DX**2)\n",
        "  Default choice of parameters:\n",
        "  A = 0.01 ; B = 1.6 ; C = 0.005 ; D = 1.0\n",
        "  \"\"\"\n",
        "  _num_states = 2\n",
        "  _num_dims   = 1\n",
        "  \n",
        "  def __init__(self,a=0.01,b=1.6,c=0.005,d=1.0):\n",
        "    self.A = a\n",
        "    self.B = b\n",
        "    self.C = c\n",
        "    self.D = d\n",
        "\n",
        "  def V(self,R):\n",
        "    if R > 0:\n",
        "      V11 = self.A*(1 - np.exp(-self.B*R))\n",
        "    elif R < 0:\n",
        "      V11 = - self.A*(1 - np.exp(self.B*R))\n",
        "    else:\n",
        "      V11=0\n",
        "    V22 = -V11\n",
        "    V12 = self.C*np.exp(-self.D*R**2)\n",
        "    V21 = V12\n",
        "    return np.array([[V11,V12],[V21,V22]])\n",
        "\n",
        "  def dV(self,R):\n",
        "    dV11 = - self.A*self.B*np.exp(-self.B*abs(R))\n",
        "    dV22 = -dV11\n",
        "    dV12 = self.C*np.exp(-self.D*R**2)\n",
        "    dV21 = dV12\n",
        "    return np.array([[dV11,dV12],[dV21,dV22]])\n",
        "\n"
      ],
      "execution_count": 0,
      "outputs": []
    },
    {
      "cell_type": "code",
      "metadata": {
        "id": "h8on_hEnlw5A",
        "colab_type": "code",
        "colab": {
          "base_uri": "https://localhost:8080/",
          "height": 34
        },
        "outputId": "e9d2924f-3c48-4ca4-d3e6-0c9b7d611cb1"
      },
      "source": [
        "# class DAXModel:\n",
        "#  def __init__(self):\n",
        "#    self.representation = representation # Adiabatic or Diabatic\n",
        "\n",
        "model = SAXModel()\n",
        "model._num_states"
      ],
      "execution_count": 16,
      "outputs": [
        {
          "output_type": "execute_result",
          "data": {
            "text/plain": [
              "2"
            ]
          },
          "metadata": {
            "tags": []
          },
          "execution_count": 16
        }
      ]
    },
    {
      "cell_type": "code",
      "metadata": {
        "id": "nVKMXrJWOzvG",
        "colab_type": "code",
        "colab": {}
      },
      "source": [
        "# Generate initial conditions\n",
        "numTraj = 100\n",
        "initP = 0\n",
        "initQ = 1"
      ],
      "execution_count": 0,
      "outputs": []
    },
    {
      "cell_type": "code",
      "metadata": {
        "id": "xOuQS4WPO3-y",
        "colab_type": "code",
        "colab": {}
      },
      "source": [
        "# Classical nuclei velocity verlet integrator"
      ],
      "execution_count": 0,
      "outputs": []
    },
    {
      "cell_type": "code",
      "metadata": {
        "id": "PiJrezKtPETB",
        "colab_type": "code",
        "colab": {}
      },
      "source": [
        "# Calculate hopping probability & random number generator"
      ],
      "execution_count": 0,
      "outputs": []
    },
    {
      "cell_type": "markdown",
      "metadata": {
        "id": "_mYs3vMkC2lP",
        "colab_type": "text"
      },
      "source": [
        "Trying to run CUDA on Colab GPUs"
      ]
    },
    {
      "cell_type": "code",
      "metadata": {
        "id": "3ubBOwvhC13R",
        "colab_type": "code",
        "colab": {}
      },
      "source": [
        "import torch"
      ],
      "execution_count": 0,
      "outputs": []
    },
    {
      "cell_type": "code",
      "metadata": {
        "id": "wFDJzyjPDaKh",
        "colab_type": "code",
        "outputId": "ba74db7d-6771-449e-f225-6e8447e12a8b",
        "colab": {
          "base_uri": "https://localhost:8080/",
          "height": 34
        }
      },
      "source": [
        "torch.cuda.memory_allocated()"
      ],
      "execution_count": 0,
      "outputs": [
        {
          "output_type": "execute_result",
          "data": {
            "text/plain": [
              "0"
            ]
          },
          "metadata": {
            "tags": []
          },
          "execution_count": 2
        }
      ]
    },
    {
      "cell_type": "code",
      "metadata": {
        "id": "oYRzLOGGDp1r",
        "colab_type": "code",
        "colab": {}
      },
      "source": [
        "a = torch.rand(128,600).cuda()"
      ],
      "execution_count": 0,
      "outputs": []
    },
    {
      "cell_type": "code",
      "metadata": {
        "id": "pVE5Jno5S43s",
        "colab_type": "code",
        "colab": {}
      },
      "source": [
        "b = np.random.rand(128,600)"
      ],
      "execution_count": 0,
      "outputs": []
    },
    {
      "cell_type": "code",
      "metadata": {
        "id": "aEU-RZaxEJJV",
        "colab_type": "code",
        "colab": {}
      },
      "source": [
        "def func(obj):\n",
        "  out = obj**2\n",
        "  return out"
      ],
      "execution_count": 0,
      "outputs": []
    },
    {
      "cell_type": "code",
      "metadata": {
        "id": "ZrYAKuaLE9cA",
        "colab_type": "code",
        "outputId": "cce0a7aa-90ee-4c52-e75c-dc3d73c25ee8",
        "colab": {
          "base_uri": "https://localhost:8080/",
          "height": 51
        }
      },
      "source": [
        "%timeit func(a)"
      ],
      "execution_count": 0,
      "outputs": [
        {
          "output_type": "stream",
          "text": [
            "The slowest run took 1600.61 times longer than the fastest. This could mean that an intermediate result is being cached.\n",
            "100000 loops, best of 3: 10.1 µs per loop\n"
          ],
          "name": "stdout"
        }
      ]
    },
    {
      "cell_type": "code",
      "metadata": {
        "id": "59OieVqETBfd",
        "colab_type": "code",
        "outputId": "b72a46e0-c80f-4f7f-d437-38443faafe71",
        "colab": {
          "base_uri": "https://localhost:8080/",
          "height": 51
        }
      },
      "source": [
        "%timeit func(b)"
      ],
      "execution_count": 0,
      "outputs": [
        {
          "output_type": "stream",
          "text": [
            "The slowest run took 13.36 times longer than the fastest. This could mean that an intermediate result is being cached.\n",
            "10000 loops, best of 3: 86.1 µs per loop\n"
          ],
          "name": "stdout"
        }
      ]
    },
    {
      "cell_type": "code",
      "metadata": {
        "id": "Ye49HUCtTVo_",
        "colab_type": "code",
        "colab": {}
      },
      "source": [
        ""
      ],
      "execution_count": 0,
      "outputs": []
    }
  ]
}