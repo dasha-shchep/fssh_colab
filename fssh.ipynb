{
  "nbformat": 4,
  "nbformat_minor": 0,
  "metadata": {
    "colab": {
      "name": "Copy of fssh.ipynb",
      "provenance": [],
      "collapsed_sections": [],
      "authorship_tag": "ABX9TyOElkPZeclrqGiLbavC5Ewq",
      "include_colab_link": true
    },
    "kernelspec": {
      "name": "python3",
      "display_name": "Python 3"
    },
    "accelerator": "GPU"
  },
  "cells": [
    {
      "cell_type": "markdown",
      "metadata": {
        "id": "view-in-github",
        "colab_type": "text"
      },
      "source": [
        "<a href=\"https://colab.research.google.com/github/dasha-shchep/fssh_colab/blob/master/fssh.ipynb\" target=\"_parent\"><img src=\"https://colab.research.google.com/assets/colab-badge.svg\" alt=\"Open In Colab\"/></a>"
      ]
    },
    {
      "cell_type": "markdown",
      "metadata": {
        "id": "PZ-pyE9nCUvy",
        "colab_type": "text"
      },
      "source": [
        "# Implementing the FSSH algorithm on Tully's example problems\n",
        "This notebook will go through the basic FSSH algorithm and run parallel trajectories as described in the original paper - Tully, J.C. *J. Chem. Phys.* (1990) **93** 1061."
      ]
    },
    {
      "cell_type": "code",
      "metadata": {
        "id": "O31aTG_wGxLt",
        "colab_type": "code",
        "colab": {}
      },
      "source": [
        "import numpy as np\n",
        "import matplotlib.pyplot as plt\n",
        "# !pip install pyscf\n",
        "# from pyscf import scf"
      ],
      "execution_count": 0,
      "outputs": []
    },
    {
      "cell_type": "markdown",
      "metadata": {
        "id": "hzHGKNGaIGRV",
        "colab_type": "text"
      },
      "source": [
        "The three types of model potential that Tully described are:\n",
        "\n",
        "A. Simple avoided crossing (SAX)\n",
        "\n",
        "B. Dual avoided crossing (DAX)\n",
        "\n",
        "C. Extended coupling with reflection (ECR)\n",
        "\n",
        "On the next line we create a SAX potential:"
      ]
    },
    {
      "cell_type": "code",
      "metadata": {
        "id": "WHIGQHk9CO8Z",
        "colab_type": "code",
        "colab": {}
      },
      "source": [
        "# Setting up model (1-D potential) classes\n",
        "# Creating a model class lets us play with more complex model potentials later\n",
        "class SAXModel:\n",
        "  \"\"\"\n",
        "  First model two-level problem defined by the following interactions in the\n",
        "  diabatic representstion:\n",
        "  V11(X) = A[1 - exp(-BX)] for x > 0\n",
        "  V11(X) = - A[1 - exp(BX)] for x < 0\n",
        "  V22(X) = - V11(X)\n",
        "  V21(X) = V12(X) = C exp(-DX**2)\n",
        "  Default choice of parameters:\n",
        "  A = 0.01 ; B = 1.6 ; C = 0.005 ; D = 1.0\n",
        "  \"\"\"\n",
        "  _num_states = 2\n",
        "  _num_dims   = 1\n",
        "  \n",
        "  def __init__(self,a=0.01,b=1.6,c=0.005,d=1.0):\n",
        "    self.A = a\n",
        "    self.B = b\n",
        "    self.C = c\n",
        "    self.D = d\n",
        "\n",
        "  def V(self,R):\n",
        "    sign = np.sign(R)\n",
        "    V11 = sign*self.A*(1 - np.exp(-sign*self.B*R))\n",
        "    V22 = -V11\n",
        "    V12 = self.C*np.exp(-self.D*R**2)\n",
        "    V21 = V12\n",
        "    return np.array([[V11,V12],[V21,V22]])\n",
        "\n",
        "  def dV(self,R):\n",
        "    dV11 = - self.A*self.B*np.exp(-self.B*abs(R))\n",
        "    dV22 = -dV11\n",
        "    dV12 = self.C*np.exp(-self.D*R**2)\n",
        "    dV21 = dV12\n",
        "    return np.array([[dV11,dV12],[dV21,dV22]])\n",
        "\n",
        "  def dD(self,R):\n",
        "    z = (self.V(R)[0,0] - self.V(R)[1,1])/(self.V(R)[0,1]*2e0)\n",
        "    D12 = 1e0/(2e0*(1+z**2)) * ( ( 1e0/(2e0*self.V(R)[0,1]**2)) * \n",
        "                                    (self.V(R)[0,1]*(self.dV(R)[0,0]-self.dV(R)[1,1]) \n",
        "                                    -self.dV(R)[0,1]*(self.V(R)[0,0]-self.V(R)[1,1])))\n",
        "    D21 = -D12\n",
        "    D11 = 0\n",
        "    D22 = 0\n",
        "    return np.array([[D11,D12],[D21,D22]])\n"
      ],
      "execution_count": 0,
      "outputs": []
    },
    {
      "cell_type": "code",
      "metadata": {
        "id": "h8on_hEnlw5A",
        "colab_type": "code",
        "outputId": "2c3f7ac3-708d-4769-f2da-cf2085ae889d",
        "colab": {
          "base_uri": "https://localhost:8080/",
          "height": 34
        }
      },
      "source": [
        "# class DAXModel:\n",
        "#  def __init__(self):\n",
        "#    self.representation = representation # Adiabatic or Diabatic\n",
        "\n",
        "model = SAXModel()\n",
        "model._num_states\n",
        "model.B"
      ],
      "execution_count": 22,
      "outputs": [
        {
          "output_type": "execute_result",
          "data": {
            "text/plain": [
              "1.6"
            ]
          },
          "metadata": {
            "tags": []
          },
          "execution_count": 22
        }
      ]
    },
    {
      "cell_type": "markdown",
      "metadata": {
        "id": "ECd6aqHRoF-X",
        "colab_type": "text"
      },
      "source": [
        "Plotting the potentials in the diabatic representation, with nonadiabatic coupling."
      ]
    },
    {
      "cell_type": "code",
      "metadata": {
        "id": "b6idn9vIk33O",
        "colab_type": "code",
        "colab": {
          "base_uri": "https://localhost:8080/",
          "height": 265
        },
        "outputId": "497da48c-aff2-4d6e-c4d6-e35c40310095"
      },
      "source": [
        "xmin,xmax = -10,10\n",
        "model.V(xmin)[0,0]\n",
        "x = np.linspace(xmin,xmax,100)\n",
        "\n",
        "fig = plt.figure()\n",
        "plt.plot(x, model.V(x)[1,1], 'k-')\n",
        "plt.plot(x, model.V(x)[0,0], 'k-');\n",
        "plt.plot(x, 0.02*model.dD(x)[1,0], 'k--');"
      ],
      "execution_count": 25,
      "outputs": [
        {
          "output_type": "display_data",
          "data": {
            "image/png": "[encoded data removed]",
            "text/plain": [
              "<Figure size 432x288 with 1 Axes>"
            ]
          },
          "metadata": {
            "tags": []
          }
        }
      ]
    },
    {
      "cell_type": "code",
      "metadata": {
        "id": "HsKezExTrzQb",
        "colab_type": "code",
        "colab": {
          "base_uri": "https://localhost:8080/",
          "height": 34
        },
        "outputId": "ae3c3f24-ac0d-4754-d633-87bcc7119546"
      },
      "source": [
        "R = 0.1\n",
        "z = (model.V(R)[0,0] - model.V(R)[1,1])/(model.V(R)[0,1]*2e0)\n",
        "k = 1e0/(2e0*(1+z**2)) * ( ( 1e0/(2e0*model.V(R)[0,1]**2)) * \n",
        "                                    ( model.V(R)[0,1]*(model.dV(R)[0,0]-model.dV(R)[1,1]) \n",
        "                                    - model.dV(R)[0,1]*(model.V(R)[0,0]-model.V(R)[1,1])))\n",
        "print(k)"
      ],
      "execution_count": 46,
      "outputs": [
        {
          "output_type": "stream",
          "text": [
            "-0.5442423427035081\n"
          ],
          "name": "stdout"
        }
      ]
    },
    {
      "cell_type": "code",
      "metadata": {
        "id": "0tsBoB1nU2Oy",
        "colab_type": "code",
        "outputId": "03bafb90-8212-464c-de84-60494df63fa3",
        "colab": {
          "base_uri": "https://localhost:8080/",
          "height": 204
        }
      },
      "source": [
        "vect = np.random.rand(1,8)\n",
        "print(vect)\n",
        "for i in vect:\n",
        "  print(model.V(i))\n"
      ],
      "execution_count": 0,
      "outputs": [
        {
          "output_type": "stream",
          "text": [
            "[[0.15861607 0.04308918 0.95873151 0.25977154 0.10535437 0.60495324\n",
            "  0.70431314 0.80776143]]\n",
            "[[[ 0.00160104  0.00046292  0.0065167   0.00248549  0.00109427\n",
            "    0.00485957  0.00539178  0.00588743]\n",
            "  [ 0.00975155  0.00998145  0.00398851  0.00934745  0.00988962\n",
            "    0.00693525  0.00608927  0.00520753]]\n",
            "\n",
            " [[ 0.00975155  0.00998145  0.00398851  0.00934745  0.00988962\n",
            "    0.00693525  0.00608927  0.00520753]\n",
            "  [-0.00160104 -0.00046292 -0.0065167  -0.00248549 -0.00109427\n",
            "   -0.00485957 -0.00539178 -0.00588743]]]\n"
          ],
          "name": "stdout"
        }
      ]
    },
    {
      "cell_type": "code",
      "metadata": {
        "id": "nVKMXrJWOzvG",
        "colab_type": "code",
        "colab": {}
      },
      "source": [
        "# Generate initial conditions\n",
        "numTraj = 100\n",
        "dT = 1 # timestep\n",
        "initP = 0\n",
        "initQ = 1\n",
        "mass = 2000"
      ],
      "execution_count": 0,
      "outputs": []
    },
    {
      "cell_type": "code",
      "metadata": {
        "id": "xOuQS4WPO3-y",
        "colab_type": "code",
        "outputId": "d3f1f7e9-c185-4ea9-9ca4-e71c415fef18",
        "colab": {
          "base_uri": "https://localhost:8080/",
          "height": 34
        }
      },
      "source": [
        "# Classical nuclei velocity verlet integrator\n",
        "acceleration = force / mass\n",
        "def velocity_verlet(old_position, old_velocity, timestep,acceleration):\n",
        "  new_position = old_position + old_velocity * timestep\n",
        "  new_velocity = old_velocity + acceleration * timestep\n",
        "  return new_position, new_velocity"
      ],
      "execution_count": 0,
      "outputs": [
        {
          "output_type": "execute_result",
          "data": {
            "text/plain": [
              "0.11418160778148789"
            ]
          },
          "metadata": {
            "tags": []
          },
          "execution_count": 5
        }
      ]
    },
    {
      "cell_type": "code",
      "metadata": {
        "id": "PiJrezKtPETB",
        "colab_type": "code",
        "colab": {}
      },
      "source": [
        "# Calculate hopping probability & random number generator\n",
        "def surface_hop():\n",
        "  random_number = np.random.rand()\n",
        "  test\n",
        "  if random_number < test:\n",
        "    bool = True\n",
        "  elif random_number > test:\n",
        "    bool = False\n",
        "  else:\n",
        "    print(\"Error\")\n",
        "  return bool"
      ],
      "execution_count": 0,
      "outputs": []
    },
    {
      "cell_type": "markdown",
      "metadata": {
        "id": "_mYs3vMkC2lP",
        "colab_type": "text"
      },
      "source": [
        "Trying to run CUDA on Colab GPUs"
      ]
    },
    {
      "cell_type": "code",
      "metadata": {
        "id": "3ubBOwvhC13R",
        "colab_type": "code",
        "colab": {}
      },
      "source": [
        "import torch"
      ],
      "execution_count": 0,
      "outputs": []
    },
    {
      "cell_type": "code",
      "metadata": {
        "id": "wFDJzyjPDaKh",
        "colab_type": "code",
        "outputId": "ba74db7d-6771-449e-f225-6e8447e12a8b",
        "colab": {
          "base_uri": "https://localhost:8080/",
          "height": 34
        }
      },
      "source": [
        "torch.cuda.memory_allocated()"
      ],
      "execution_count": 0,
      "outputs": [
        {
          "output_type": "execute_result",
          "data": {
            "text/plain": [
              "0"
            ]
          },
          "metadata": {
            "tags": []
          },
          "execution_count": 2
        }
      ]
    },
    {
      "cell_type": "code",
      "metadata": {
        "id": "oYRzLOGGDp1r",
        "colab_type": "code",
        "colab": {}
      },
      "source": [
        "a = torch.rand(128,600).cuda()"
      ],
      "execution_count": 0,
      "outputs": []
    },
    {
      "cell_type": "code",
      "metadata": {
        "id": "pVE5Jno5S43s",
        "colab_type": "code",
        "colab": {}
      },
      "source": [
        "b = np.random.rand(128,600)"
      ],
      "execution_count": 0,
      "outputs": []
    },
    {
      "cell_type": "code",
      "metadata": {
        "id": "aEU-RZaxEJJV",
        "colab_type": "code",
        "colab": {}
      },
      "source": [
        "def func(obj):\n",
        "  out = obj**2\n",
        "  return out"
      ],
      "execution_count": 0,
      "outputs": []
    },
    {
      "cell_type": "code",
      "metadata": {
        "id": "ZrYAKuaLE9cA",
        "colab_type": "code",
        "outputId": "cce0a7aa-90ee-4c52-e75c-dc3d73c25ee8",
        "colab": {
          "base_uri": "https://localhost:8080/",
          "height": 51
        }
      },
      "source": [
        "%timeit func(a)"
      ],
      "execution_count": 0,
      "outputs": [
        {
          "output_type": "stream",
          "text": [
            "The slowest run took 1600.61 times longer than the fastest. This could mean that an intermediate result is being cached.\n",
            "100000 loops, best of 3: 10.1 µs per loop\n"
          ],
          "name": "stdout"
        }
      ]
    },
    {
      "cell_type": "code",
      "metadata": {
        "id": "59OieVqETBfd",
        "colab_type": "code",
        "outputId": "b72a46e0-c80f-4f7f-d437-38443faafe71",
        "colab": {
          "base_uri": "https://localhost:8080/",
          "height": 51
        }
      },
      "source": [
        "%timeit func(b)"
      ],
      "execution_count": 0,
      "outputs": [
        {
          "output_type": "stream",
          "text": [
            "The slowest run took 13.36 times longer than the fastest. This could mean that an intermediate result is being cached.\n",
            "10000 loops, best of 3: 86.1 µs per loop\n"
          ],
          "name": "stdout"
        }
      ]
    },
    {
      "cell_type": "code",
      "metadata": {
        "id": "Ye49HUCtTVo_",
        "colab_type": "code",
        "colab": {}
      },
      "source": [
        ""
      ],
      "execution_count": 0,
      "outputs": []
    }
  ]
}